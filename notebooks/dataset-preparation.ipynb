{
 "cells": [
  {
   "cell_type": "markdown",
   "metadata": {},
   "source": [
    "# Dataset preparation"
   ]
  },
  {
   "cell_type": "code",
   "execution_count": 68,
   "metadata": {},
   "outputs": [],
   "source": [
    "from pathlib import Path\n",
    "import json\n",
    "import requests\n",
    "\n",
    "from shutil import copyfile\n",
    "from tqdm import tqdm_notebook\n",
    "import xmltodict"
   ]
  },
  {
   "cell_type": "markdown",
   "metadata": {},
   "source": [
    "## Convert RectLabel format"
   ]
  },
  {
   "cell_type": "code",
   "execution_count": 11,
   "metadata": {},
   "outputs": [],
   "source": [
    "alphabet = list('abcdefghijklmnopqrstuvwxyz') + ['na']"
   ]
  },
  {
   "cell_type": "code",
   "execution_count": 12,
   "metadata": {},
   "outputs": [
    {
     "data": {
      "text/plain": [
       "['a', 'b', 'c', 'd', 'e', 'f', 'g', 'h', 'i', 'j']"
      ]
     },
     "execution_count": 12,
     "metadata": {},
     "output_type": "execute_result"
    }
   ],
   "source": [
    "alphabet[:10]"
   ]
  },
  {
   "cell_type": "code",
   "execution_count": 13,
   "metadata": {},
   "outputs": [],
   "source": [
    "atoi = {l: c for c, l in enumerate(alphabet)}"
   ]
  },
  {
   "cell_type": "code",
   "execution_count": 14,
   "metadata": {},
   "outputs": [
    {
     "data": {
      "text/plain": [
       "26"
      ]
     },
     "execution_count": 14,
     "metadata": {},
     "output_type": "execute_result"
    }
   ],
   "source": [
    "atoi['na']"
   ]
  },
  {
   "cell_type": "code",
   "execution_count": 15,
   "metadata": {},
   "outputs": [],
   "source": [
    "PATH = Path('./data/')"
   ]
  },
  {
   "cell_type": "code",
   "execution_count": 16,
   "metadata": {},
   "outputs": [],
   "source": [
    "YOLO_OUTPATH = PATH/'yolo-filtered'\n",
    "YOLO_OUTPATH.mkdir(exist_ok=True)"
   ]
  },
  {
   "cell_type": "code",
   "execution_count": 17,
   "metadata": {},
   "outputs": [],
   "source": [
    "VID_IDS = ['33qU9tQlEa4', '6iP3g_qSf28', 'EBH3wdRtZyg', 'pAz_mIjHglw']"
   ]
  },
  {
   "cell_type": "code",
   "execution_count": 24,
   "metadata": {},
   "outputs": [],
   "source": [
    "keep_ids = set(['h', 'e', 'a', 'l', 't', 'h', 'h', 'a', 'c', 'k'])"
   ]
  },
  {
   "cell_type": "code",
   "execution_count": 25,
   "metadata": {},
   "outputs": [
    {
     "data": {
      "application/vnd.jupyter.widget-view+json": {
       "model_id": "4d1ef88ad6c9419080db333e4ca9fab1",
       "version_major": 2,
       "version_minor": 0
      },
      "text/html": [
       "<p>Failed to display Jupyter Widget of type <code>HBox</code>.</p>\n",
       "<p>\n",
       "  If you're reading this message in the Jupyter Notebook or JupyterLab Notebook, it may mean\n",
       "  that the widgets JavaScript is still loading. If this message persists, it\n",
       "  likely means that the widgets JavaScript library is either not installed or\n",
       "  not enabled. See the <a href=\"https://ipywidgets.readthedocs.io/en/stable/user_install.html\">Jupyter\n",
       "  Widgets Documentation</a> for setup instructions.\n",
       "</p>\n",
       "<p>\n",
       "  If you're reading this message in another frontend (for example, a static\n",
       "  rendering on GitHub or <a href=\"https://nbviewer.jupyter.org/\">NBViewer</a>),\n",
       "  it may mean that your frontend doesn't currently support widgets.\n",
       "</p>\n"
      ],
      "text/plain": [
       "HBox(children=(IntProgress(value=0, max=4), HTML(value='')))"
      ]
     },
     "metadata": {},
     "output_type": "display_data"
    },
    {
     "name": "stdout",
     "output_type": "stream",
     "text": [
      "\n"
     ]
    }
   ],
   "source": [
    "for vid_id in tqdm_notebook(VID_IDS):\n",
    "    VID_PATH = PATH/'annotations'/vid_id\n",
    "    for item in VID_PATH.iterdir():\n",
    "        with open(item) as fd:\n",
    "            doc = xmltodict.parse(fd.read())\n",
    "            \n",
    "        if 'object' not in doc['annotation']:\n",
    "            continue\n",
    "            \n",
    "        class_name = doc['annotation']['object']['name']\n",
    "        if class_name not in keep_ids:\n",
    "            continue\n",
    "            \n",
    "        img_width = int(doc['annotation']['size']['width'])\n",
    "        img_height = int(doc['annotation']['size']['height'])\n",
    "        \n",
    "        bnd_box = doc['annotation']['object']['bndbox']\n",
    "        \n",
    "        x_min, y_min, x_max, y_max = (\n",
    "            int(bnd_box['xmin']), int(bnd_box['ymin']), int(bnd_box['xmax']), int(bnd_box['ymax']))\n",
    "        width = x_max - x_min\n",
    "        height = y_max - y_min\n",
    "\n",
    "        class_id = atoi[class_name]\n",
    "        \n",
    "        video_file_id = str(item).split('/')[-1].split('.')[-2]\n",
    "        copyfile(Path(f'./data/images/{vid_id}/{video_file_id}.jpg'), YOLO_OUTPATH/f'{video_file_id}.jpg')\n",
    "        with open(YOLO_OUTPATH/f'{video_file_id}.txt', 'w') as fh:\n",
    "            fh.write(f'{class_id} {x_min / img_width} {y_min / img_height} {width / img_width} {height / img_height}')"
   ]
  },
  {
   "cell_type": "markdown",
   "metadata": {},
   "source": [
    "## Convert DataTurks format"
   ]
  },
  {
   "cell_type": "code",
   "execution_count": 63,
   "metadata": {},
   "outputs": [],
   "source": [
    "JSON_VID_IDS = ['ZO8Npgp4xvw', '_5NbYyUlcHU']"
   ]
  },
  {
   "cell_type": "code",
   "execution_count": 64,
   "metadata": {},
   "outputs": [],
   "source": []
  },
  {
   "cell_type": "code",
   "execution_count": 67,
   "metadata": {},
   "outputs": [
    {
     "data": {
      "application/vnd.jupyter.widget-view+json": {
       "model_id": "0219580caaa14c659149d9e73062b365",
       "version_major": 2,
       "version_minor": 0
      },
      "text/html": [
       "<p>Failed to display Jupyter Widget of type <code>HBox</code>.</p>\n",
       "<p>\n",
       "  If you're reading this message in the Jupyter Notebook or JupyterLab Notebook, it may mean\n",
       "  that the widgets JavaScript is still loading. If this message persists, it\n",
       "  likely means that the widgets JavaScript library is either not installed or\n",
       "  not enabled. See the <a href=\"https://ipywidgets.readthedocs.io/en/stable/user_install.html\">Jupyter\n",
       "  Widgets Documentation</a> for setup instructions.\n",
       "</p>\n",
       "<p>\n",
       "  If you're reading this message in another frontend (for example, a static\n",
       "  rendering on GitHub or <a href=\"https://nbviewer.jupyter.org/\">NBViewer</a>),\n",
       "  it may mean that your frontend doesn't currently support widgets.\n",
       "</p>\n"
      ],
      "text/plain": [
       "HBox(children=(IntProgress(value=0, max=1), HTML(value='')))"
      ]
     },
     "metadata": {},
     "output_type": "display_data"
    },
    {
     "name": "stdout",
     "output_type": "stream",
     "text": [
      "Saved data/yolo-filtered/5NbYyUlcHU-frame-468.jpg\n",
      "Saved data/yolo-filtered/5NbYyUlcHU-frame-468.txt\n",
      "Saved data/yolo-filtered/5NbYyUlcHU-frame-323.jpg\n",
      "Saved data/yolo-filtered/5NbYyUlcHU-frame-323.txt\n",
      "Saved data/yolo-filtered/5NbYyUlcHU-frame-347.jpg\n",
      "Saved data/yolo-filtered/5NbYyUlcHU-frame-347.txt\n",
      "Saved data/yolo-filtered/5NbYyUlcHU-frame-207.jpg\n",
      "Saved data/yolo-filtered/5NbYyUlcHU-frame-207.txt\n",
      "Saved data/yolo-filtered/5NbYyUlcHU-frame-43.jpg\n",
      "Saved data/yolo-filtered/5NbYyUlcHU-frame-43.txt\n",
      "Saved data/yolo-filtered/5NbYyUlcHU-frame-842.jpg\n",
      "Saved data/yolo-filtered/5NbYyUlcHU-frame-842.txt\n",
      "Saved data/yolo-filtered/5NbYyUlcHU-frame-843.jpg\n",
      "Saved data/yolo-filtered/5NbYyUlcHU-frame-843.txt\n",
      "Saved data/yolo-filtered/5NbYyUlcHU-frame-116.jpg\n",
      "Saved data/yolo-filtered/5NbYyUlcHU-frame-116.txt\n",
      "Saved data/yolo-filtered/5NbYyUlcHU-frame-102.jpg\n",
      "Saved data/yolo-filtered/5NbYyUlcHU-frame-102.txt\n"
     ]
    }
   ],
   "source": [
    "for vid_id in tqdm_notebook(JSON_VID_IDS):\n",
    "    for line in open(PATH/'annotations'/f'{vid_id}.json'):\n",
    "        line = json.loads(line)\n",
    "        anno = line['annotation'][0]\n",
    "        \n",
    "        if anno['label'] not in keep_ids:\n",
    "            continue\n",
    "\n",
    "        xmin = min(\n",
    "            anno['points'][0][0], anno['points'][1][0], anno['points'][2][0], anno['points'][3][0])\n",
    "\n",
    "        ymin = min(\n",
    "            anno['points'][0][1], anno['points'][1][1],\n",
    "            anno['points'][2][1], anno['points'][3][1])\n",
    "\n",
    "        xmax = max(\n",
    "            anno['points'][0][0], anno['points'][1][0],\n",
    "            anno['points'][2][0], anno['points'][3][0])\n",
    "        ymax = max(\n",
    "            anno['points'][0][1], anno['points'][1][1],\n",
    "            anno['points'][2][1], anno['points'][3][1])\n",
    "        \n",
    "        width = xmax - xmin\n",
    "        height = ymax - ymin\n",
    "        \n",
    "        class_id = atoi[anno['label']]\n",
    "            \n",
    "        url = line['content']\n",
    "        \n",
    "        video_file_id = url.split('.')[-2].split('__')[-1]\n",
    "\n",
    "        response = requests.get(url)\n",
    "        if response.status_code == 200:\n",
    "            with open(YOLO_OUTPATH/f'{video_file_id}.jpg', 'wb') as f:\n",
    "                f.write(response.content)\n",
    "                print('Saved', YOLO_OUTPATH/f'{video_file_id}.jpg')\n",
    "\n",
    "        with open(YOLO_OUTPATH/f'{video_file_id}.txt', 'w') as fh:\n",
    "            fh.write(f'{class_id} {xmin} {ymin} {width} {height}')\n",
    "            print('Saved', YOLO_OUTPATH/f'{video_file_id}.txt')"
   ]
  },
  {
   "cell_type": "code",
   "execution_count": 66,
   "metadata": {},
   "outputs": [
    {
     "data": {
      "text/plain": [
       "'http://com.dataturks.a96-i23.open.s3.amazonaws.com/2c9fafb065aeb6960165db44c029022c/57b4baaa-bb31-4444-8c47-556de7f29246____5NbYyUlcHU__5NbYyUlcHU-frame-102.jpg'"
      ]
     },
     "execution_count": 66,
     "metadata": {},
     "output_type": "execute_result"
    }
   ],
   "source": [
    "url"
   ]
  },
  {
   "cell_type": "code",
   "execution_count": null,
   "metadata": {},
   "outputs": [],
   "source": []
  }
 ],
 "metadata": {
  "kernelspec": {
   "display_name": "Python 3",
   "language": "python",
   "name": "python3"
  },
  "language_info": {
   "codemirror_mode": {
    "name": "ipython",
    "version": 3
   },
   "file_extension": ".py",
   "mimetype": "text/x-python",
   "name": "python",
   "nbconvert_exporter": "python",
   "pygments_lexer": "ipython3",
   "version": "3.6.4"
  }
 },
 "nbformat": 4,
 "nbformat_minor": 2
}
